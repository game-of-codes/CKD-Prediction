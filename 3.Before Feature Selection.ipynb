{
 "cells": [
  {
   "cell_type": "markdown",
   "metadata": {},
   "source": [
    "# Algorithms before feature selection"
   ]
  },
  {
   "cell_type": "code",
   "execution_count": 18,
   "metadata": {},
   "outputs": [],
   "source": [
    "import pandas as pd\n",
    "import numpy as np\n",
    "from sklearn.metrics import precision_score, recall_score, f1_score, roc_auc_score, accuracy_score, classification_report\n",
    "from sklearn.model_selection import train_test_split\n",
    "from sklearn.ensemble import RandomForestClassifier\n",
    "from sklearn.linear_model import LogisticRegression\n",
    "from sklearn.impute import KNNImputer\n",
    "\n",
    "from sklearn.linear_model import LogisticRegression\n",
    "from sklearn.neighbors import KNeighborsClassifier\n",
    "from sklearn.ensemble import RandomForestClassifier\n",
    "from sklearn.svm import SVC\n",
    "from sklearn.naive_bayes import GaussianNB\n",
    "\n",
    "from sklearn.metrics import *\n",
    "import zipfile\n",
    "from zipfile import ZipFile\n",
    "import pickle\n",
    "from sklearn.preprocessing import StandardScaler\n",
    "scaler = StandardScaler()"
   ]
  },
  {
   "cell_type": "code",
   "execution_count": 19,
   "metadata": {},
   "outputs": [],
   "source": [
    "df_knn_imputed_uniform_3 = pd.read_csv('df_knn_imputed_uniform_3.csv')\n",
    "df_knn_imputed_uniform_5 = pd.read_csv('df_knn_imputed_uniform_5.csv')\n",
    "df_knn_imputed_uniform_7 = pd.read_csv('df_knn_imputed_uniform_7.csv')\n",
    "df_knn_imputed_uniform_9 = pd.read_csv('df_knn_imputed_uniform_9.csv')\n",
    "df_knn_imputed_uniform_11 = pd.read_csv('df_knn_imputed_uniform_11.csv')\n",
    "df_mean_imputed = pd.read_csv('df_mean_imputed.csv')"
   ]
  },
  {
   "cell_type": "code",
   "execution_count": 20,
   "metadata": {},
   "outputs": [
    {
     "data": {
      "text/plain": [
       "Index(['Unnamed: 0', 'age', 'bp', 'sg', 'al', 'su', 'rbc', 'pc', 'pcc', 'ba',\n",
       "       'bgr', 'bu', 'sc', 'sod', 'pot', 'hemo', 'pcv', 'wbcc', 'rbcc', 'htn',\n",
       "       'dm', 'cad', 'appet', 'pe', 'ane', 'class'],\n",
       "      dtype='object')"
      ]
     },
     "execution_count": 20,
     "metadata": {},
     "output_type": "execute_result"
    }
   ],
   "source": [
    "df_knn_imputed_uniform_3.columns"
   ]
  },
  {
   "cell_type": "code",
   "execution_count": 21,
   "metadata": {},
   "outputs": [
    {
     "data": {
      "text/plain": [
       "Index(['Unnamed: 0', 'age', 'bp', 'sg', 'al', 'su', 'rbc', 'pc', 'pcc', 'ba',\n",
       "       'bgr', 'bu', 'sc', 'sod', 'pot', 'hemo', 'pcv', 'wbcc', 'rbcc', 'htn',\n",
       "       'dm', 'cad', 'appet', 'pe', 'ane', 'class'],\n",
       "      dtype='object')"
      ]
     },
     "execution_count": 21,
     "metadata": {},
     "output_type": "execute_result"
    }
   ],
   "source": [
    "df_knn_imputed_uniform_5.columns"
   ]
  },
  {
   "cell_type": "code",
   "execution_count": 22,
   "metadata": {},
   "outputs": [
    {
     "data": {
      "text/plain": [
       "Index(['Unnamed: 0', 'age', 'bp', 'sg', 'al', 'su', 'rbc', 'pc', 'pcc', 'ba',\n",
       "       'bgr', 'bu', 'sc', 'sod', 'pot', 'hemo', 'pcv', 'wbcc', 'rbcc', 'htn',\n",
       "       'dm', 'cad', 'appet', 'pe', 'ane', 'class'],\n",
       "      dtype='object')"
      ]
     },
     "execution_count": 22,
     "metadata": {},
     "output_type": "execute_result"
    }
   ],
   "source": [
    "df_knn_imputed_uniform_7.columns"
   ]
  },
  {
   "cell_type": "code",
   "execution_count": 23,
   "metadata": {},
   "outputs": [
    {
     "data": {
      "text/plain": [
       "Index(['Unnamed: 0', 'age', 'bp', 'sg', 'al', 'su', 'rbc', 'pc', 'pcc', 'ba',\n",
       "       'bgr', 'bu', 'sc', 'sod', 'pot', 'hemo', 'pcv', 'wbcc', 'rbcc', 'htn',\n",
       "       'dm', 'cad', 'appet', 'pe', 'ane', 'class'],\n",
       "      dtype='object')"
      ]
     },
     "execution_count": 23,
     "metadata": {},
     "output_type": "execute_result"
    }
   ],
   "source": [
    "df_knn_imputed_uniform_9.columns"
   ]
  },
  {
   "cell_type": "code",
   "execution_count": 24,
   "metadata": {},
   "outputs": [
    {
     "data": {
      "text/plain": [
       "Index(['Unnamed: 0', 'age', 'bp', 'sg', 'al', 'su', 'rbc', 'pc', 'pcc', 'ba',\n",
       "       'bgr', 'bu', 'sc', 'sod', 'pot', 'hemo', 'pcv', 'wbcc', 'rbcc', 'htn',\n",
       "       'dm', 'cad', 'appet', 'pe', 'ane', 'class'],\n",
       "      dtype='object')"
      ]
     },
     "execution_count": 24,
     "metadata": {},
     "output_type": "execute_result"
    }
   ],
   "source": [
    "df_knn_imputed_uniform_11.columns"
   ]
  },
  {
   "cell_type": "code",
   "execution_count": 25,
   "metadata": {},
   "outputs": [
    {
     "data": {
      "text/plain": [
       "Index(['Unnamed: 0', 'age', 'bp', 'sg', 'al', 'su', 'rbc', 'pc', 'pcc', 'ba',\n",
       "       'bgr', 'bu', 'sc', 'sod', 'pot', 'hemo', 'pcv', 'wbcc', 'rbcc', 'htn',\n",
       "       'dm', 'cad', 'appet', 'pe', 'ane', 'class'],\n",
       "      dtype='object')"
      ]
     },
     "execution_count": 25,
     "metadata": {},
     "output_type": "execute_result"
    }
   ],
   "source": [
    "df_mean_imputed.columns"
   ]
  },
  {
   "cell_type": "markdown",
   "metadata": {},
   "source": [
    "We see the above datasets have generated one extra column named as 'Unnamed: 0'.\n",
    "So have to remove this unwanted column."
   ]
  },
  {
   "cell_type": "markdown",
   "metadata": {},
   "source": [
    "Removing unwanted column from all the datasets"
   ]
  },
  {
   "cell_type": "code",
   "execution_count": 26,
   "metadata": {},
   "outputs": [],
   "source": [
    "df_knn_imputed_uniform_3.drop(['Unnamed: 0'],axis=1,inplace=True)\n",
    "df_knn_imputed_uniform_5.drop(['Unnamed: 0'],axis=1,inplace=True)\n",
    "df_knn_imputed_uniform_7.drop(['Unnamed: 0'],axis=1,inplace=True)\n",
    "df_knn_imputed_uniform_9.drop(['Unnamed: 0'],axis=1,inplace=True)\n",
    "df_knn_imputed_uniform_11.drop(['Unnamed: 0'],axis=1,inplace=True)\n",
    "df_mean_imputed.drop(['Unnamed: 0'],axis=1,inplace=True)                                                                                         "
   ]
  },
  {
   "cell_type": "markdown",
   "metadata": {},
   "source": [
    "# Models(LOG, KNN, RF, SVM, NB) Applying on the KNN-Imputed & Mean-Imputed Dataset"
   ]
  },
  {
   "cell_type": "code",
   "execution_count": 27,
   "metadata": {},
   "outputs": [],
   "source": [
    "def models(x):\n",
    "    \n",
    "    if(x==0):\n",
    "        classifier = LogisticRegression()\n",
    "    elif(x==1):\n",
    "        classifier = KNeighborsClassifier()\n",
    "    elif(x==2):\n",
    "        classifier = RandomForestClassifier(n_estimators = 100, random_state=0)\n",
    "    elif(x==3):\n",
    "        classifier = SVC(kernel='rbf',random_state=None)\n",
    "    else:\n",
    "        classifier = GaussianNB()\n",
    "        \n",
    "    res = {}\n",
    "    \n",
    "    #dfs: array of imputed df\n",
    "    dfs = [df_knn_imputed_uniform_3,df_knn_imputed_uniform_5,\n",
    "        df_knn_imputed_uniform_7,df_knn_imputed_uniform_9,\n",
    "        df_knn_imputed_uniform_11,df_mean_imputed]\n",
    "    \n",
    "    dfs_name = [\"knn_imputed_3\", \"knn_imputed_5\",\n",
    "                \"knn_imputed_7\",\"knn_imputed_9\",\n",
    "                \"knn_imputed_11\",\"mean_imputed\"]\n",
    "\n",
    "    for i, df in enumerate(dfs):\n",
    "        x = df.iloc[:, :-1]\n",
    "        y = df['class']\n",
    "#         2,5,6,12,14,15,17,21\n",
    "# Important 2,3,5,9,10,11,12,14,15,17,18,19\n",
    "#         0,1,3,4,7,8,9,10,11,13,16,18,19,20,22,23\n",
    "#         'age','bp','al','su','pcc','ba','bgr','bu','sc','pot','wbcc','htn','dm','cad','pe','ane'\n",
    "        x_train, x_test, y_train, y_test = train_test_split(x, y, test_size = 0.25, shuffle = True, random_state = 42)\n",
    "        \n",
    "        ss = StandardScaler()\n",
    "        x_train = ss.fit_transform(x_train)\n",
    "        x_test = ss.transform(x_test)\n",
    "        classifier.fit(x_train,y_train)\n",
    "        \n",
    "        test_pred = classifier.predict(x_test)\n",
    "        train_pred = classifier.predict(x_train).round(7)\n",
    "       \n",
    "        # print(test_pred)\n",
    "        train_acc = accuracy_score(y_train, train_pred).round(7)\n",
    "        test_acc = accuracy_score(y_test, test_pred).round(7)\n",
    "        \n",
    "        tn, fp, fn, tp = confusion_matrix(y_test, test_pred).ravel()\n",
    "        classification_report(y_test, test_pred)\n",
    "        res[dfs_name[i]] = [train_acc, test_acc, tn, fp, fn, tp]\n",
    "        \n",
    "    return res"
   ]
  },
  {
   "cell_type": "code",
   "execution_count": 28,
   "metadata": {},
   "outputs": [
    {
     "name": "stdout",
     "output_type": "stream",
     "text": [
      "\u001b[1m 1 .PERFORMANCE INDICATORS for Logistic Regression \n",
      "\n",
      "                train_acc  test_acc  true_neg  false_pos  false_neg  true_pos\n",
      "knn_imputed_3    0.993333      1.00        35          0          0        65\n",
      "knn_imputed_5    0.996667      0.99        34          1          0        65\n",
      "knn_imputed_7    0.996667      0.99        34          1          0        65\n",
      "knn_imputed_9    0.996667      0.98        33          2          0        65\n",
      "knn_imputed_11   0.996667      0.98        33          2          0        65\n",
      "mean_imputed     1.000000      1.00        35          0          0        65 \n",
      "\n",
      "2 \u001b[1m.PERFORMANCE INDICATORS for KNN \n",
      "\n",
      "                train_acc  test_acc  true_neg  false_pos  false_neg  true_pos\n",
      "knn_imputed_3    0.963333      0.99        35          0          1        64\n",
      "knn_imputed_5    0.973333      0.98        34          1          1        64\n",
      "knn_imputed_7    0.976667      0.98        34          1          1        64\n",
      "knn_imputed_9    0.976667      0.99        35          0          1        64\n",
      "knn_imputed_11   0.976667      0.99        35          0          1        64\n",
      "mean_imputed     0.980000      0.99        35          0          1        64 \n",
      "\n",
      "3 \u001b[1m.PERFORMANCE INDICATORS for Random Forest \n",
      "\n",
      "                train_acc  test_acc  true_neg  false_pos  false_neg  true_pos\n",
      "knn_imputed_3         1.0      0.99        34          1          0        65\n",
      "knn_imputed_5         1.0      0.98        33          2          0        65\n",
      "knn_imputed_7         1.0      0.98        33          2          0        65\n",
      "knn_imputed_9         1.0      0.98        33          2          0        65\n",
      "knn_imputed_11        1.0      0.98        33          2          0        65\n",
      "mean_imputed          1.0      1.00        35          0          0        65 \n",
      "\n",
      "4 \u001b[1m.PERFORMANCE INDICATORS for SVM \n",
      "\n",
      "                train_acc  test_acc  true_neg  false_pos  false_neg  true_pos\n",
      "knn_imputed_3    0.990000      0.98        34          1          1        64\n",
      "knn_imputed_5    0.993333      0.99        34          1          0        65\n",
      "knn_imputed_7    0.993333      0.99        34          1          0        65\n",
      "knn_imputed_9    0.993333      0.98        33          2          0        65\n",
      "knn_imputed_11   0.993333      0.98        33          2          0        65\n",
      "mean_imputed     1.000000      1.00        35          0          0        65 \n",
      "\n",
      "5 \u001b[1m.PERFORMANCE INDICATORS for Naive Bayes \n",
      "\n",
      "                train_acc  test_acc  true_neg  false_pos  false_neg  true_pos\n",
      "knn_imputed_3    0.926667      0.95        34          1          4        61\n",
      "knn_imputed_5    0.930000      0.95        34          1          4        61\n",
      "knn_imputed_7    0.936667      0.96        34          1          3        62\n",
      "knn_imputed_9    0.936667      0.94        32          3          3        62\n",
      "knn_imputed_11   0.940000      0.95        32          3          2        63\n",
      "mean_imputed     0.946667      0.97        34          1          2        63 \n",
      "\n"
     ]
    }
   ],
   "source": [
    "for i in range(5):\n",
    "    result = models(i)\n",
    "    res = pd.DataFrame.from_dict(data = result,orient='index', columns = ['train_acc', 'test_acc', 'true_neg', 'false_pos', 'false_neg', 'true_pos'])\n",
    "    if(i==0):\n",
    "        print(\"\\033[1m\",i+1,\".PERFORMANCE INDICATORS for Logistic Regression \\n\")\n",
    "    elif(i==1):\n",
    "        print(i+1,\"\\033[1m\"+\".PERFORMANCE INDICATORS for KNN \\n\")\n",
    "    elif(i==2):\n",
    "        print(i+1,\"\\033[1m\"+\".PERFORMANCE INDICATORS for Random Forest \\n\")\n",
    "    elif(i==3):\n",
    "        print(i+1,\"\\033[1m\"+\".PERFORMANCE INDICATORS for SVM \\n\")\n",
    "    else:\n",
    "        print(i+1,\"\\033[1m\"+\".PERFORMANCE INDICATORS for Naive Bayes \\n\")\n",
    "        \n",
    "    print(res,'\\n')"
   ]
  },
  {
   "cell_type": "markdown",
   "metadata": {},
   "source": [
    "Conclusion: We are getting 100% accuracy for Random Forest Classifier and for every other model, we have some error which we have to rectify\n",
    "\n",
    "Also we are getting False negative=0 in case of Random Forest Classifier which shows us that this model is the best among all others."
   ]
  },
  {
   "cell_type": "code",
   "execution_count": null,
   "metadata": {},
   "outputs": [],
   "source": []
  }
 ],
 "metadata": {
  "kernelspec": {
   "display_name": "Python 3",
   "language": "python",
   "name": "python3"
  },
  "language_info": {
   "codemirror_mode": {
    "name": "ipython",
    "version": 3
   },
   "file_extension": ".py",
   "mimetype": "text/x-python",
   "name": "python",
   "nbconvert_exporter": "python",
   "pygments_lexer": "ipython3",
   "version": "3.8.3"
  }
 },
 "nbformat": 4,
 "nbformat_minor": 4
}

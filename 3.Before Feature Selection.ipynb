{
 "cells": [
  {
   "cell_type": "markdown",
   "metadata": {},
   "source": [
    "# Algorithms before feature selection"
   ]
  },
  {
   "cell_type": "code",
   "execution_count": 35,
   "metadata": {},
   "outputs": [],
   "source": [
    "import pandas as pd\n",
    "import numpy as np\n",
    "from sklearn.metrics import precision_score, recall_score, f1_score, roc_auc_score, accuracy_score, classification_report\n",
    "from sklearn.model_selection import train_test_split\n",
    "\n",
    "from sklearn.linear_model import LogisticRegression\n",
    "from sklearn.neighbors import KNeighborsClassifier\n",
    "from sklearn.ensemble import RandomForestClassifier\n",
    "from sklearn.svm import SVC\n",
    "from sklearn.naive_bayes import GaussianNB\n",
    "from sklearn.neural_network import MLPClassifier\n",
    "\n",
    "from sklearn.metrics import *\n",
    "from sklearn.preprocessing import StandardScaler\n",
    "scaler = StandardScaler()\n",
    "\n",
    "import time"
   ]
  },
  {
   "cell_type": "code",
   "execution_count": 36,
   "metadata": {},
   "outputs": [],
   "source": [
    "df_knn_imputed_uniform_3 = pd.read_csv('df_knn_imputed_uniform_3.csv')\n",
    "df_knn_imputed_uniform_5 = pd.read_csv('df_knn_imputed_uniform_5.csv')\n",
    "df_knn_imputed_uniform_7 = pd.read_csv('df_knn_imputed_uniform_7.csv')\n",
    "df_knn_imputed_uniform_9 = pd.read_csv('df_knn_imputed_uniform_9.csv')\n",
    "df_knn_imputed_uniform_11 = pd.read_csv('df_knn_imputed_uniform_11.csv')\n",
    "df_mean_imputed = pd.read_csv('df_mean_imputed.csv')"
   ]
  },
  {
   "cell_type": "markdown",
   "metadata": {},
   "source": [
    "# Models(LOG, KNN, RF, SVM, NB, MLP) Applying on the KNN-Imputed & Mean-Imputed Dataset"
   ]
  },
  {
   "cell_type": "code",
   "execution_count": 37,
   "metadata": {},
   "outputs": [],
   "source": [
    "dfs = [df_knn_imputed_uniform_3,df_knn_imputed_uniform_5,\n",
    "        df_knn_imputed_uniform_7,df_knn_imputed_uniform_9,\n",
    "        df_knn_imputed_uniform_11,df_mean_imputed]\n",
    "    \n",
    "dfs_name = [\"knn_imputed_3\", \"knn_imputed_5\",\n",
    "                \"knn_imputed_7\",\"knn_imputed_9\",\n",
    "                \"knn_imputed_11\",\"mean_imputed\"]"
   ]
  },
  {
   "cell_type": "code",
   "execution_count": 40,
   "metadata": {},
   "outputs": [],
   "source": [
    "def models(x):\n",
    "    \n",
    "    if(x==0):\n",
    "        classifier = LogisticRegression()\n",
    "    elif(x==1):\n",
    "        classifier = KNeighborsClassifier()\n",
    "    elif(x==2):\n",
    "        classifier = RandomForestClassifier(n_estimators = 100)\n",
    "    elif(x==3):\n",
    "        classifier = SVC(kernel='rbf',random_state=None)\n",
    "    elif(x==4):\n",
    "        classifier = GaussianNB()\n",
    "    else:\n",
    "        classifier = MLPClassifier(hidden_layer_sizes=(13,13,13), max_iter=500)\n",
    "        \n",
    "    res = {}\n",
    "\n",
    "    for i, df in enumerate(dfs):\n",
    "        x = df.iloc[:, :-1]\n",
    "        y = df['class']\n",
    "        \n",
    "        x_train, x_test, y_train, y_test = train_test_split(x, y, test_size = 0.25, shuffle = True)\n",
    "        \n",
    "        ss = StandardScaler()\n",
    "        x_train = ss.fit_transform(x_train)\n",
    "        x_test = ss.transform(x_test)\n",
    "        classifier.fit(x_train,y_train)\n",
    "        \n",
    "        test_pred = classifier.predict(x_test)\n",
    "        train_pred = classifier.predict(x_train)\n",
    "       \n",
    "        # print(test_pred)\n",
    "        train_acc = accuracy_score(y_train, train_pred)\n",
    "        test_acc = accuracy_score(y_test, test_pred)\n",
    "        \n",
    "#         print(\"Time taken to execute\",dfs_name[i],\"--- %s seconds ---\" % (time.time() - start_time))\n",
    "        tn, fp, fn, tp = confusion_matrix(y_test, test_pred).ravel()\n",
    "#         print(classification_report(y_test, test_pred))\n",
    "        res[dfs_name[i]] = [train_acc, test_acc, tn, fp, fn, tp]\n",
    "        \n",
    "    return res"
   ]
  },
  {
   "cell_type": "code",
   "execution_count": 41,
   "metadata": {},
   "outputs": [
    {
     "name": "stdout",
     "output_type": "stream",
     "text": [
      "\u001b[1m 1 .PERFORMANCE INDICATORS for Logistic Regression \n",
      "\n",
      "                train_acc  test_acc  true_neg  false_pos  false_neg  true_pos\n",
      "knn_imputed_3    0.996667      0.98        38          0          2        60\n",
      "knn_imputed_5    1.000000      0.97        36          0          3        61\n",
      "knn_imputed_7    1.000000      0.98        33          0          2        65\n",
      "knn_imputed_9    0.996667      0.99        42          0          1        57\n",
      "knn_imputed_11   0.996667      0.98        43          2          0        55\n",
      "mean_imputed     1.000000      0.99        38          0          1        61 \n",
      "\n",
      "2 \u001b[1m.PERFORMANCE INDICATORS for KNN \n",
      "\n",
      "                train_acc  test_acc  true_neg  false_pos  false_neg  true_pos\n",
      "knn_imputed_3    0.973333      0.99        40          0          1        59\n",
      "knn_imputed_5    0.970000      0.96        35          1          3        61\n",
      "knn_imputed_7    0.983333      0.98        38          0          2        60\n",
      "knn_imputed_9    0.983333      1.00        46          0          0        54\n",
      "knn_imputed_11   0.980000      0.98        36          0          2        62\n",
      "mean_imputed     0.983333      0.94        28          0          6        66 \n",
      "\n",
      "3 \u001b[1m.PERFORMANCE INDICATORS for Random Forest \n",
      "\n",
      "                train_acc  test_acc  true_neg  false_pos  false_neg  true_pos\n",
      "knn_imputed_3         1.0      0.99        37          1          0        62\n",
      "knn_imputed_5         1.0      0.99        41          1          0        58\n",
      "knn_imputed_7         1.0      1.00        36          0          0        64\n",
      "knn_imputed_9         1.0      0.99        45          1          0        54\n",
      "knn_imputed_11        1.0      0.96        36          3          1        60\n",
      "mean_imputed          1.0      1.00        35          0          0        65 \n",
      "\n",
      "4 \u001b[1m.PERFORMANCE INDICATORS for SVM \n",
      "\n",
      "                train_acc  test_acc  true_neg  false_pos  false_neg  true_pos\n",
      "knn_imputed_3    0.993333      0.98        33          1          1        65\n",
      "knn_imputed_5    0.986667      0.99        34          1          0        65\n",
      "knn_imputed_7    0.993333      1.00        40          0          0        60\n",
      "knn_imputed_9    0.996667      0.99        38          0          1        61\n",
      "knn_imputed_11   0.990000      0.99        38          1          0        61\n",
      "mean_imputed     1.000000      1.00        39          0          0        61 \n",
      "\n",
      "5 \u001b[1m.PERFORMANCE INDICATORS for Naive Bayes \n",
      "\n",
      "                train_acc  test_acc  true_neg  false_pos  false_neg  true_pos\n",
      "knn_imputed_3    0.930000      0.93        37          1          6        56\n",
      "knn_imputed_5    0.953333      0.92        42          4          4        50\n",
      "knn_imputed_7    0.953333      0.94        40          1          5        54\n",
      "knn_imputed_9    0.943333      0.92        33          1          7        59\n",
      "knn_imputed_11   0.950000      0.93        35          1          6        58\n",
      "mean_imputed     0.943333      0.94        28          1          5        66 \n",
      "\n",
      "6 \u001b[1m.PERFORMANCE INDICATORS for MultiLayer-Perceptron \n",
      "\n",
      "                train_acc  test_acc  true_neg  false_pos  false_neg  true_pos\n",
      "knn_imputed_3         1.0      0.98        36          1          1        62\n",
      "knn_imputed_5         1.0      0.96        45          1          3        51\n",
      "knn_imputed_7         1.0      0.99        41          0          1        58\n",
      "knn_imputed_9         1.0      0.99        28          1          0        71\n",
      "knn_imputed_11        1.0      0.99        34          0          1        65\n",
      "mean_imputed          1.0      1.00        32          0          0        68 \n",
      "\n"
     ]
    }
   ],
   "source": [
    "for i in range(6):\n",
    "    result = models(i)\n",
    "    res = pd.DataFrame.from_dict(data = result,orient='index', columns = ['train_acc', 'test_acc', 'true_neg', 'false_pos', 'false_neg', 'true_pos'])\n",
    "    if(i==0):\n",
    "        print(\"\\033[1m\",i+1,\".PERFORMANCE INDICATORS for Logistic Regression \\n\")\n",
    "    elif(i==1):\n",
    "        print(i+1,\"\\033[1m\"+\".PERFORMANCE INDICATORS for KNN \\n\")\n",
    "    elif(i==2):\n",
    "        print(i+1,\"\\033[1m\"+\".PERFORMANCE INDICATORS for Random Forest \\n\")\n",
    "    elif(i==3):\n",
    "        print(i+1,\"\\033[1m\"+\".PERFORMANCE INDICATORS for SVM \\n\")\n",
    "    elif(i==4):\n",
    "        print(i+1,\"\\033[1m\"+\".PERFORMANCE INDICATORS for Naive Bayes \\n\")\n",
    "    else:\n",
    "        print(i+1,\"\\033[1m\"+\".PERFORMANCE INDICATORS for MultiLayer-Perceptron \\n\")\n",
    "\n",
    "    print(res,'\\n')"
   ]
  },
  {
   "cell_type": "markdown",
   "metadata": {},
   "source": [
    "we see from above implemented Models, that for different Models we get some less accuracy and more false_pos & false_neg as mentioned above:-\n",
    "    \n",
    "To increase the accuracy we need to do **feature Scaling** so that some variables can be removed which is not contibuting in prediction"
   ]
  },
  {
   "cell_type": "code",
   "execution_count": null,
   "metadata": {},
   "outputs": [],
   "source": []
  }
 ],
 "metadata": {
  "kernelspec": {
   "display_name": "Python 3",
   "language": "python",
   "name": "python3"
  },
  "language_info": {
   "codemirror_mode": {
    "name": "ipython",
    "version": 3
   },
   "file_extension": ".py",
   "mimetype": "text/x-python",
   "name": "python",
   "nbconvert_exporter": "python",
   "pygments_lexer": "ipython3",
   "version": "3.8.3"
  }
 },
 "nbformat": 4,
 "nbformat_minor": 4
}
